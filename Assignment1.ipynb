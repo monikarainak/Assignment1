{
 "cells": [
  {
   "cell_type": "markdown",
   "id": "3719ebfd",
   "metadata": {},
   "source": [
    "# Question 1"
   ]
  },
  {
   "cell_type": "markdown",
   "id": "ff94d718",
   "metadata": {},
   "source": [
    "1. In the below elements which of them are values or an expression? eg:- values can be integer or string and expressions will be mathematical operators."
   ]
  },
  {
   "cell_type": "markdown",
   "id": "5fcbc0b4",
   "metadata": {},
   "source": [
    "*  expression\n",
    "'hello' value\n",
    "-87.8 value\n",
    "- expression\n",
    "/ expression\n",
    "+ expression\n",
    "6 value"
   ]
  },
  {
   "cell_type": "markdown",
   "id": "7946256b",
   "metadata": {},
   "source": [
    "#  Question 2"
   ]
  },
  {
   "cell_type": "markdown",
   "id": "40196be2",
   "metadata": {},
   "source": [
    "2. What is the difference between string and variable?"
   ]
  },
  {
   "cell_type": "markdown",
   "id": "f40bfc42",
   "metadata": {},
   "source": [
    "A variable is used to store a information  eg. int a=10  a is variable which is used to store value 10.\n",
    "\n",
    "A string is information which is stored in variable. string represents in double or single quotes eg. string x=\"xyz\" xyz represents a string which is stored in variable x"
   ]
  },
  {
   "cell_type": "markdown",
   "id": "570fb250",
   "metadata": {},
   "source": [
    "# Question 3"
   ]
  },
  {
   "cell_type": "markdown",
   "id": "eca7c48b",
   "metadata": {},
   "source": [
    " 3. Describe three different data types."
   ]
  },
  {
   "cell_type": "markdown",
   "id": "d1aa87b9",
   "metadata": {},
   "source": [
    "1 Integers :It contains positive or negative whole numbers\n",
    "eg a=787 , x=-878 etc.\n",
    "\n",
    "2 List : List in python can be created by just placing data inside the squere brackets.\n",
    "eg l=[1,2,3,4,5]\n",
    "     In order to access the list items for that index operator [] is used. eg if i want to access list l data we can use l[i].\n",
    "     \n",
    "3 Tuple :tuple is and ordered collection. tuples are immutable i.e tuples can not be modified after created.\n",
    "   Tuples can contain any element with any data type.\n",
    "   Tuples are created by placing a sequence of data values separated by ',' with the use of paranthesis ()\n",
    "   e.g t=(1,\"monika\",[1,2,3,4],76)"
   ]
  },
  {
   "cell_type": "markdown",
   "id": "28a30aff",
   "metadata": {},
   "source": [
    "# Question 4"
   ]
  },
  {
   "cell_type": "markdown",
   "id": "3678483b",
   "metadata": {},
   "source": [
    "4. What is an expression made up of? What do all expressions do?"
   ]
  },
  {
   "cell_type": "markdown",
   "id": "13f415cc",
   "metadata": {},
   "source": [
    "An expression is made up of variables, operators, and method invocations which are constructed according to the syntax of the language that evaluates to a single value\n",
    "e.g a=6*5  \n"
   ]
  },
  {
   "cell_type": "markdown",
   "id": "92c382ae",
   "metadata": {},
   "source": [
    "# Question 5"
   ]
  },
  {
   "cell_type": "markdown",
   "id": "13ab6508",
   "metadata": {},
   "source": [
    "5. This assignment statements, like spam = 10. What is the difference between an expression and a statement?"
   ]
  },
  {
   "cell_type": "markdown",
   "id": "438b2a64",
   "metadata": {},
   "source": [
    "Expression is made up of variables, operators, and method invocations which are constructed according to the syntax of the language that evaluates to a single value.\n",
    "e.g 7+3\n",
    "\n",
    "The statement is just like a command that python interpreter executes e.g print()"
   ]
  },
  {
   "cell_type": "markdown",
   "id": "a47d23cd",
   "metadata": {},
   "source": [
    "# Question 6"
   ]
  },
  {
   "cell_type": "markdown",
   "id": "83366d4b",
   "metadata": {},
   "source": [
    "6. After running the following code, what does the variable bacon contain?"
   ]
  },
  {
   "cell_type": "code",
   "execution_count": 2,
   "id": "21e8c8cf",
   "metadata": {},
   "outputs": [
    {
     "data": {
      "text/plain": [
       "23"
      ]
     },
     "execution_count": 2,
     "metadata": {},
     "output_type": "execute_result"
    }
   ],
   "source": [
    "bacon=22\n",
    "bacon+1"
   ]
  },
  {
   "cell_type": "markdown",
   "id": "e90ab792",
   "metadata": {},
   "source": [
    "# Question 7"
   ]
  },
  {
   "cell_type": "markdown",
   "id": "7acc585a",
   "metadata": {},
   "source": [
    "7. What should the values of the following two terms be?"
   ]
  },
  {
   "cell_type": "code",
   "execution_count": 4,
   "id": "c5513655",
   "metadata": {},
   "outputs": [
    {
     "data": {
      "text/plain": [
       "'spamspamspam'"
      ]
     },
     "execution_count": 4,
     "metadata": {},
     "output_type": "execute_result"
    }
   ],
   "source": [
    "'spam'+'spamspam'"
   ]
  },
  {
   "cell_type": "code",
   "execution_count": 5,
   "id": "0b5d639e",
   "metadata": {},
   "outputs": [
    {
     "data": {
      "text/plain": [
       "'spamspamspam'"
      ]
     },
     "execution_count": 5,
     "metadata": {},
     "output_type": "execute_result"
    }
   ],
   "source": [
    "'spam'*3"
   ]
  },
  {
   "cell_type": "markdown",
   "id": "b0fed146",
   "metadata": {},
   "source": [
    "# Question 8"
   ]
  },
  {
   "cell_type": "markdown",
   "id": "cbf2a278",
   "metadata": {},
   "source": [
    "8. Why is eggs a valid variable name while 100 is invalid?"
   ]
  },
  {
   "cell_type": "markdown",
   "id": "9cd1b69e",
   "metadata": {},
   "source": [
    "Because we are not able to start variable name with integer value.e.g after string or character integer is given then its fine like eggs100 is valid but 100eggs is invalid because of integer used first to assign variable name."
   ]
  },
  {
   "cell_type": "markdown",
   "id": "333d13c7",
   "metadata": {},
   "source": [
    "# Question 9"
   ]
  },
  {
   "cell_type": "markdown",
   "id": "58016282",
   "metadata": {},
   "source": [
    "9. What three functions can be used to get the integer, floating-point number, or string version of a value?"
   ]
  },
  {
   "cell_type": "markdown",
   "id": "1cdb7779",
   "metadata": {},
   "source": [
    "str(), int(), float()"
   ]
  },
  {
   "cell_type": "markdown",
   "id": "9533dc22",
   "metadata": {},
   "source": [
    "# Question 10"
   ]
  },
  {
   "cell_type": "code",
   "execution_count": 6,
   "id": "12bda42d",
   "metadata": {},
   "outputs": [
    {
     "ename": "TypeError",
     "evalue": "can only concatenate str (not \"int\") to str",
     "output_type": "error",
     "traceback": [
      "\u001b[1;31m---------------------------------------------------------------------------\u001b[0m",
      "\u001b[1;31mTypeError\u001b[0m                                 Traceback (most recent call last)",
      "\u001b[1;32m~\\AppData\\Local\\Temp/ipykernel_3256/2630289103.py\u001b[0m in \u001b[0;36m<module>\u001b[1;34m\u001b[0m\n\u001b[1;32m----> 1\u001b[1;33m \u001b[1;34m'I have eaten'\u001b[0m\u001b[1;33m+\u001b[0m\u001b[1;36m99\u001b[0m\u001b[1;33m+\u001b[0m\u001b[1;34m'burritos'\u001b[0m\u001b[1;33m\u001b[0m\u001b[1;33m\u001b[0m\u001b[0m\n\u001b[0m",
      "\u001b[1;31mTypeError\u001b[0m: can only concatenate str (not \"int\") to str"
     ]
    }
   ],
   "source": [
    "'I have eaten'+99+'burritos'"
   ]
  },
  {
   "cell_type": "markdown",
   "id": "81f3f035",
   "metadata": {},
   "source": [
    "can only concatenate str (not \"int\") to str in that example 99 is an integer. if still want to concat this for that we need to do typecasting of 99"
   ]
  },
  {
   "cell_type": "code",
   "execution_count": 7,
   "id": "487794bb",
   "metadata": {},
   "outputs": [
    {
     "data": {
      "text/plain": [
       "'I have eaten99burritos'"
      ]
     },
     "execution_count": 7,
     "metadata": {},
     "output_type": "execute_result"
    }
   ],
   "source": [
    "'I have eaten'+str(99)+'burritos'"
   ]
  }
 ],
 "metadata": {
  "kernelspec": {
   "display_name": "Python 3 (ipykernel)",
   "language": "python",
   "name": "python3"
  },
  "language_info": {
   "codemirror_mode": {
    "name": "ipython",
    "version": 3
   },
   "file_extension": ".py",
   "mimetype": "text/x-python",
   "name": "python",
   "nbconvert_exporter": "python",
   "pygments_lexer": "ipython3",
   "version": "3.9.7"
  }
 },
 "nbformat": 4,
 "nbformat_minor": 5
}
